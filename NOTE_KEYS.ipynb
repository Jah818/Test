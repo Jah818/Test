{
  "nbformat": 4,
  "nbformat_minor": 0,
  "metadata": {
    "colab": {
      "provenance": []
    },
    "kernelspec": {
      "name": "python3",
      "display_name": "Python 3"
    },
    "language_info": {
      "name": "python"
    }
  },
  "cells": [
    {
      "cell_type": "markdown",
      "source": [
        "# **Click Run** (White Play Button), then enter notes to find Key"
      ],
      "metadata": {
        "id": "DAEUsgR2PVRh"
      }
    },
    {
      "cell_type": "markdown",
      "source": [
        "Scroll down if code is visible."
      ],
      "metadata": {
        "id": "0NbeTAujRRzO"
      }
    },
    {
      "cell_type": "code",
      "execution_count": 24,
      "metadata": {
        "colab": {
          "base_uri": "https://localhost:8080/"
        },
        "outputId": "308edfaf-a9e1-403b-cb04-ead6ef56dadd",
        "cellView": "form",
        "id": "2rOW8mfzM4ob"
      },
      "outputs": [
        {
          "output_type": "stream",
          "name": "stdout",
          "text": [
            "Enter notes separated by spaces: F Bb Eb\n",
            "Key that best matches:  Db Major\n",
            "Other possible keys: Db Major, Eb Major, Gb Major, Ab Major, Bb Major, C Minor, Eb Minor, F Minor, G Minor, Bb Minor\n"
          ]
        }
      ],
      "source": [
        "#@title v <---- Click Run\n",
        "\n",
        "# Dictionary of keys\n",
        "keys = {\n",
        "    'C Major': ['C', 'D', 'E', 'F', 'G', 'A', 'B'],\n",
        "    'C# Major': ['C#', 'D#', 'F', 'F#', 'G#', 'A#', 'C'],\n",
        "    'Db Major': ['Db', 'Eb', 'F', 'Gb', 'Ab', 'Bb', 'C'],\n",
        "    'D Major': ['D', 'E', 'F#', 'G', 'A', 'B', 'C#'],\n",
        "    'D# Major': ['D#', 'F', 'G', 'G#', 'A#', 'C', 'D'],\n",
        "    'Eb Major': ['Eb', 'F', 'G', 'Ab', 'Bb', 'C', 'D'],\n",
        "    'E Major': ['E', 'F#', 'G#', 'A', 'B', 'C#', 'D#'],\n",
        "    'F Major': ['F', 'G', 'A', 'Bb', 'C', 'D', 'E'],\n",
        "    'F# Major': ['F#', 'G#', 'A#', 'B', 'C#', 'D#', 'F'],\n",
        "    'Gb Major': ['Gb', 'Ab', 'Bb', 'Cb', 'Db', 'Eb', 'F'],\n",
        "    'G Major': ['G', 'A', 'B', 'C', 'D', 'E', 'F#'],\n",
        "    'G# Major': ['G#', 'A#', 'C', 'C#', 'D#', 'F', 'G'],\n",
        "    'Ab Major': ['Ab', 'Bb', 'C', 'Db', 'Eb', 'F', 'G'],\n",
        "    'A Major': ['A', 'B', 'C#', 'D', 'E', 'F#', 'G#'],\n",
        "    'A# Major': ['A#', 'C', 'D', 'D#', 'F', 'G', 'A'],\n",
        "    'Bb Major': ['Bb', 'C', 'D', 'Eb', 'F', 'G', 'A'],\n",
        "    'B Major': ['B', 'C#', 'D#', 'E', 'F#', 'G#', 'A#'],\n",
        "    'C Minor': ['C', 'D', 'Eb', 'F', 'G', 'Ab', 'Bb'],\n",
        "    'C# Minor': ['C#', 'D#', 'E', 'F#', 'G#', 'A', 'B'],\n",
        "    'Db Minor': ['Db', 'Eb', 'E', 'Gb', 'Ab', 'A', 'B'],\n",
        "    'D Minor': ['D', 'E', 'F', 'G', 'A', 'Bb', 'C'],\n",
        "    'D# Minor': ['D#', 'E#', 'F#', 'G#', 'A#', 'B', 'C#'],\n",
        "    'Eb Minor': ['Eb', 'F', 'Gb', 'Ab', 'Bb', 'Cb', 'Db'],\n",
        "    'E Minor': ['E', 'F#', 'G', 'A', 'B', 'C', 'D'],\n",
        "    'F Minor': ['F', 'G', 'Ab', 'Bb', 'C', 'Db', 'Eb'],\n",
        "    'F# minor': ['F#', 'G#', 'A', 'B', 'C#', 'D', 'E'],\n",
        "    'Gb Minor': ['Gb', 'Ab', 'A', 'Bb', 'Db', 'D', 'E'],\n",
        "    'G Minor': ['G', 'A', 'Bb', 'C', 'D', 'Eb', 'F'],\n",
        "    'G# Minor': ['G#', 'A#', 'B', 'C#', 'D#', 'E', 'F#'],\n",
        "    'Ab Minor': ['Ab', 'Bb', 'Cb', 'Db', 'Eb', 'Fb', 'Gb'],\n",
        "    'A Minor': ['A', 'B', 'C', 'D', 'E', 'F', 'G'],\n",
        "    'A# Minor': ['A#', 'B#', 'C#', 'D#', 'E#', 'F#', 'G#'],\n",
        "    'Bb Minor': ['Bb', 'C', 'Db', 'Eb', 'F', 'Gb', 'Ab'],\n",
        "    'B Minor': ['B', 'C#', 'D', 'E', 'F#', 'G', 'A']\n",
        "}\n",
        "\n",
        "# Define a function to get the key of a note\n",
        "def get_key(keys):\n",
        "    # Get input notes from user\n",
        "    notes = input(\"Enter notes separated by spaces: \").split()\n",
        "\n",
        "    # Initialize variables to keep track of the best matching key and other possible keys\n",
        "    best_match_key = None\n",
        "    best_match_count = 0\n",
        "    possible_keys = []\n",
        "\n",
        "    # Loop through all keys and find which notes belong to each key\n",
        "    for key, key_notes in keys.items():\n",
        "        count = sum(1 for note in notes if note in key_notes)\n",
        "        if count > best_match_count:\n",
        "            # If a key has more matching notes than the current best match, update the best match and clear the list of possible keys\n",
        "            best_match_key = key\n",
        "            best_match_count = count\n",
        "            possible_keys = []\n",
        "        if count == best_match_count:\n",
        "            # If a key has the same number of matching notes as the current best match, add it to the list of possible keys\n",
        "            possible_keys.append(key)\n",
        "\n",
        "    # Return the best matching key and any other possible keys\n",
        "    if best_match_count > 0:\n",
        "        return best_match_key, possible_keys\n",
        "    else:\n",
        "        return None, []\n",
        "\n",
        "\n",
        "best_match, possible_keys = get_key(keys)\n",
        "if best_match is not None:\n",
        "    print(\"Key that best matches: \", best_match)\n",
        "    if len(possible_keys) > 1:\n",
        "        print(\"Other possible keys:\", \", \".join(possible_keys))\n",
        "else:\n",
        "    print(\"Could not find a key for the input notes\")\n",
        "    \n"
      ]
    }
  ]
}